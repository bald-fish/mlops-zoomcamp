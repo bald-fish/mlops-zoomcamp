{
 "cells": [
  {
   "cell_type": "markdown",
   "id": "bda89ad0",
   "metadata": {},
   "source": [
    "# **Week 2 -  Experiment Tracking**\n",
    "**- ML Flow setup and testing...** \\\n",
    "\\\n",
    "This notebook is following the coursework for week 02....\n"
   ]
  },
  {
   "cell_type": "code",
   "execution_count": 5,
   "id": "f58cb012",
   "metadata": {},
   "outputs": [
    {
     "name": "stdout",
     "output_type": "stream",
     "text": [
      "Done\n"
     ]
    }
   ],
   "source": [
    "import pickle\n",
    "\n",
    "# Impoirting ML flow and then setting up the pipeline...\n",
    "import mlflow\n",
    "import seaborn as sns\n",
    "import pandas as pd\n",
    "import matplotlib.pyplot as plt\n",
    "from sklearn.feature_extraction import DictVectorizer\n",
    "from sklearn.linear_model import LinearRegression\n",
    "from sklearn.linear_model import Lasso\n",
    "from sklearn.linear_model import Ridge\n",
    "from sklearn.metrics import mean_squared_error\n",
    "\n",
    "print('Done')"
   ]
  },
  {
   "cell_type": "code",
   "execution_count": 15,
   "id": "5859512d",
   "metadata": {},
   "outputs": [
    {
     "name": "stderr",
     "output_type": "stream",
     "text": [
      "2025/05/15 19:13:00 INFO mlflow.tracking.fluent: Experiment with name 'nyc-taxi-experiment' does not exist. Creating a new experiment.\n"
     ]
    },
    {
     "data": {
      "text/plain": [
       "<Experiment: artifact_location='/home/martvas/mlops-zoomcamp/02-experiment-tracking/mlruns/1', creation_time=1747354380186, experiment_id='1', last_update_time=1747354380186, lifecycle_stage='active', name='nyc-taxi-experiment', tags={}>"
      ]
     },
     "execution_count": 15,
     "metadata": {},
     "output_type": "execute_result"
    }
   ],
   "source": [
    "mlflow.set_tracking_uri(\"sqlite:///mlflow.db\")\n",
    "mlflow.set_experiment(\"nyc-taxi-experiment\")"
   ]
  },
  {
   "cell_type": "code",
   "execution_count": 6,
   "id": "6b82008c",
   "metadata": {},
   "outputs": [],
   "source": [
    "# Defining a quick function for ingesting data...\n",
    "def read_data(filename):\n",
    "    df = pd.read_parquet(filename)\n",
    "    df['duration'] = round((df['lpep_dropoff_datetime'] - df['lpep_pickup_datetime']).dt.total_seconds() / 60, 3)\n",
    "    df = df[(df['duration'] > 1) & (df['duration'] <= 60)]\n",
    "    categorical  = ['PULocationID', 'DOLocationID']\n",
    "    df[categorical] = df[categorical].astype(str)\n",
    "    return df"
   ]
  },
  {
   "cell_type": "code",
   "execution_count": 9,
   "id": "f1190fb9",
   "metadata": {},
   "outputs": [
    {
     "name": "stdout",
     "output_type": "stream",
     "text": [
      "df_train data shape: (73833, 21)\n",
      "df_val data shape: (61889, 21)\n"
     ]
    }
   ],
   "source": [
    "df_train = read_data('./data/green_tripdata_2021-01.parquet')\n",
    "df_val = read_data('data/green_tripdata_2021-02.parquet')\n",
    "print(f'df_train data shape: {df_train.shape}')\n",
    "print(f'df_val data shape: {df_val.shape}')"
   ]
  },
  {
   "cell_type": "code",
   "execution_count": 10,
   "id": "176c7ebc",
   "metadata": {},
   "outputs": [],
   "source": [
    "df_train['PU_DO'] = df_train['PULocationID'] + '_' + df_train['DOLocationID']\n",
    "df_val['PU_DO'] = df_val['PULocationID'] + '_' + df_val['DOLocationID']"
   ]
  },
  {
   "cell_type": "code",
   "execution_count": 12,
   "id": "aa32a3eb",
   "metadata": {},
   "outputs": [],
   "source": [
    "categorical = ['PU_DO'] #'PuLocationID', 'DOLocationID']\n",
    "numerical = ['trip_distance']\n",
    "dv = DictVectorizer()\n",
    "\n",
    "train_dicts = df_train[categorical + numerical].to_dict(orient='records')\n",
    "X_train = dv.fit_transform(train_dicts)\n",
    "val_dicts = df_val[categorical + numerical].to_dict(orient='records')\n",
    "X_val = dv.transform(val_dicts)"
   ]
  },
  {
   "cell_type": "code",
   "execution_count": 13,
   "id": "989f58a5",
   "metadata": {},
   "outputs": [
    {
     "name": "stdout",
     "output_type": "stream",
     "text": [
      "Mean Squared Error:  7.756930872164769\n"
     ]
    }
   ],
   "source": [
    "target = 'duration'\n",
    "y_train = df_train[target].values\n",
    "y_val = df_val[target].values\n",
    "lr = LinearRegression()\n",
    "lr.fit(X_train, y_train)\n",
    "y_pred = lr.predict(X_val)\n",
    "mse_val = mean_squared_error(y_val, y_pred, squared=False)\n",
    "print('Mean Squared Error: ', mse_val)"
   ]
  },
  {
   "cell_type": "code",
   "execution_count": 14,
   "id": "9d3bce71",
   "metadata": {},
   "outputs": [],
   "source": [
    "with open('models/lin_reg.bin', 'wb') as f_out:\n",
    "    pickle.dump((dv, lr), f_out)"
   ]
  },
  {
   "cell_type": "code",
   "execution_count": null,
   "id": "e9467554",
   "metadata": {},
   "outputs": [
    {
     "name": "stdout",
     "output_type": "stream",
     "text": [
      "$$ Lasso Root Mean Squared Error:  11.163246810144308\n"
     ]
    }
   ],
   "source": [
    "# Testing a lasso model to see if we have improvement\n",
    "lr = Lasso(0.01)\n",
    "lr.fit(X_train, y_train)\n",
    "\n",
    "y_pred = lr.predict(X_val)\n",
    "mse_lasso = mean_squared_error(y_val, y_pred, squared=False)\n",
    "print('$$ Lasso Root Mean Squared Error: ', mse_lasso)"
   ]
  },
  {
   "cell_type": "markdown",
   "id": "d45e2830",
   "metadata": {},
   "source": [
    "### **Section 2.2. - Implementing MLFlow for tracking experiments:**\n",
    "\n",
    "For this we can use the Lasso model for testing and showcasing... timestamp: **6:58** in this section the course went through:\n",
    "- Basic logging for identyifigyin key parameters; i.e, parameters, data paths, metrics.\n",
    "- Parametric logging for timing, versions and tagging."
   ]
  },
  {
   "cell_type": "code",
   "execution_count": 19,
   "id": "1e6da89d",
   "metadata": {},
   "outputs": [],
   "source": [
    "# Testing a lasso model to see if we have improvement\n",
    "with mlflow.start_run():\n",
    "\n",
    "    #Logging some key info into mlflow.....\n",
    "    mlflow.set_tag('developer', 'bald_fish')\n",
    "    mlflow.log_param('train-data-path', './data/green_tripdata_2021-01.parquet')\n",
    "    mlflow.log_param('valid-data-path', './data/green_tripdata_2021-02.parquet')\n",
    "\n",
    "    alpha = 0.01\n",
    "    mlflow.log_param('alpha', alpha)\n",
    "    lr = Lasso(alpha)\n",
    "    lr.fit(X_train, y_train)\n",
    "\n",
    "    y_pred = lr.predict(X_val)\n",
    "    rmse = mean_squared_error(y_val, y_pred, squared=False)\n",
    "    mlflow.log_metric('rmse', rmse)\n",
    "    "
   ]
  },
  {
   "cell_type": "markdown",
   "id": "e1f76784",
   "metadata": {},
   "source": [
    "### **Section 2.3 - Experiment Tracking with ML flow.....**"
   ]
  },
  {
   "cell_type": "code",
   "execution_count": null,
   "id": "fb9b90e9",
   "metadata": {},
   "outputs": [],
   "source": [
    "# Section 2.3. Adding hyperoptimization.\n",
    "import xgboost as xgb\n",
    "\n",
    "from hyperopt import fmin, tpe, hp, STATUS_OK, Trials\n",
    "from hyperopt.pyll import scope"
   ]
  }
 ],
 "metadata": {
  "kernelspec": {
   "display_name": "venv-02exptrack",
   "language": "python",
   "name": "python3"
  },
  "language_info": {
   "codemirror_mode": {
    "name": "ipython",
    "version": 3
   },
   "file_extension": ".py",
   "mimetype": "text/x-python",
   "name": "python",
   "nbconvert_exporter": "python",
   "pygments_lexer": "ipython3",
   "version": "3.8.10"
  }
 },
 "nbformat": 4,
 "nbformat_minor": 5
}
