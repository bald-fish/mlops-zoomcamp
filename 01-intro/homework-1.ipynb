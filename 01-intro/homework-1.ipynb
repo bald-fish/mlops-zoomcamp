{
 "cells": [
  {
   "cell_type": "code",
   "execution_count": 41,
   "id": "f30a4524-9daf-42b6-b228-04ced57ee831",
   "metadata": {},
   "outputs": [
    {
     "name": "stdout",
     "output_type": "stream",
     "text": [
      "Imported modules completed\n"
     ]
    }
   ],
   "source": [
    "# Getting the modules...\n",
    "import pandas as pd\n",
    "import seaborn as sns\n",
    "from datetime import datetime\n",
    "import matplotlib\n",
    "import os\n",
    "from sklearn.feature_extraction import DictVectorizer\n",
    "\n",
    "print('Imported modules completed')"
   ]
  },
  {
   "cell_type": "code",
   "execution_count": 2,
   "id": "29957ed6-b909-4c6c-9743-3422882666fb",
   "metadata": {},
   "outputs": [
    {
     "name": "stdout",
     "output_type": "stream",
     "text": [
      "['.ipynb_checkpoints', 'yellow_tripdata_2023-01.parquet', 'yellow_tripdata_2023-02.parquet']\n"
     ]
    }
   ],
   "source": [
    "dir_path = '../01-intro/data/'\n",
    "file_list = os.listdir(dir_path)\n",
    "print(file_list)"
   ]
  },
  {
   "cell_type": "code",
   "execution_count": 3,
   "id": "6bd121e1-3bb0-461a-bcbb-99ceac2df63e",
   "metadata": {},
   "outputs": [
    {
     "name": "stdout",
     "output_type": "stream",
     "text": [
      "The Dataset from January has:\n",
      " Rows: 3066766\n",
      " Columns: 19\n"
     ]
    }
   ],
   "source": [
    "# 1st Question, how many columns does the data have for January 2023?\n",
    "filename1 = f'{dir_path}{file_list[1]}'\n",
    "df = pd.read_parquet(filename1)\n",
    "print(f'The Dataset from January has:\\n Rows: {df.shape[0]}\\n Columns: {df.shape[1]}')"
   ]
  },
  {
   "cell_type": "code",
   "execution_count": 4,
   "id": "0e82cc58-39b2-481f-a584-ab57535c448b",
   "metadata": {},
   "outputs": [
    {
     "data": {
      "text/plain": [
       "Index(['VendorID', 'tpep_pickup_datetime', 'tpep_dropoff_datetime',\n",
       "       'passenger_count', 'trip_distance', 'RatecodeID', 'store_and_fwd_flag',\n",
       "       'PULocationID', 'DOLocationID', 'payment_type', 'fare_amount', 'extra',\n",
       "       'mta_tax', 'tip_amount', 'tolls_amount', 'improvement_surcharge',\n",
       "       'total_amount', 'congestion_surcharge', 'airport_fee'],\n",
       "      dtype='object')"
      ]
     },
     "execution_count": 4,
     "metadata": {},
     "output_type": "execute_result"
    }
   ],
   "source": [
    "# 2nd Question, Calculate duration of trip in minutes....\n",
    "df.columns"
   ]
  },
  {
   "cell_type": "code",
   "execution_count": 5,
   "id": "56efcb49-3d58-4828-b01f-d572e85f5d1e",
   "metadata": {},
   "outputs": [
    {
     "data": {
      "text/html": [
       "<div>\n",
       "<style scoped>\n",
       "    .dataframe tbody tr th:only-of-type {\n",
       "        vertical-align: middle;\n",
       "    }\n",
       "\n",
       "    .dataframe tbody tr th {\n",
       "        vertical-align: top;\n",
       "    }\n",
       "\n",
       "    .dataframe thead th {\n",
       "        text-align: right;\n",
       "    }\n",
       "</style>\n",
       "<table border=\"1\" class=\"dataframe\">\n",
       "  <thead>\n",
       "    <tr style=\"text-align: right;\">\n",
       "      <th></th>\n",
       "      <th>tpep_pickup_datetime</th>\n",
       "      <th>tpep_dropoff_datetime</th>\n",
       "    </tr>\n",
       "  </thead>\n",
       "  <tbody>\n",
       "    <tr>\n",
       "      <th>0</th>\n",
       "      <td>2023-01-01 00:32:10</td>\n",
       "      <td>2023-01-01 00:40:36</td>\n",
       "    </tr>\n",
       "    <tr>\n",
       "      <th>1</th>\n",
       "      <td>2023-01-01 00:55:08</td>\n",
       "      <td>2023-01-01 01:01:27</td>\n",
       "    </tr>\n",
       "    <tr>\n",
       "      <th>2</th>\n",
       "      <td>2023-01-01 00:25:04</td>\n",
       "      <td>2023-01-01 00:37:49</td>\n",
       "    </tr>\n",
       "    <tr>\n",
       "      <th>3</th>\n",
       "      <td>2023-01-01 00:03:48</td>\n",
       "      <td>2023-01-01 00:13:25</td>\n",
       "    </tr>\n",
       "    <tr>\n",
       "      <th>4</th>\n",
       "      <td>2023-01-01 00:10:29</td>\n",
       "      <td>2023-01-01 00:21:19</td>\n",
       "    </tr>\n",
       "  </tbody>\n",
       "</table>\n",
       "</div>"
      ],
      "text/plain": [
       "  tpep_pickup_datetime tpep_dropoff_datetime\n",
       "0  2023-01-01 00:32:10   2023-01-01 00:40:36\n",
       "1  2023-01-01 00:55:08   2023-01-01 01:01:27\n",
       "2  2023-01-01 00:25:04   2023-01-01 00:37:49\n",
       "3  2023-01-01 00:03:48   2023-01-01 00:13:25\n",
       "4  2023-01-01 00:10:29   2023-01-01 00:21:19"
      ]
     },
     "execution_count": 5,
     "metadata": {},
     "output_type": "execute_result"
    }
   ],
   "source": [
    "df[['tpep_pickup_datetime', 'tpep_dropoff_datetime']].head()"
   ]
  },
  {
   "cell_type": "code",
   "execution_count": 27,
   "id": "5787d92d",
   "metadata": {},
   "outputs": [
    {
     "data": {
      "text/plain": [
       "VendorID                          int64\n",
       "tpep_pickup_datetime     datetime64[ns]\n",
       "tpep_dropoff_datetime    datetime64[ns]\n",
       "passenger_count                 float64\n",
       "trip_distance                   float64\n",
       "RatecodeID                      float64\n",
       "store_and_fwd_flag               object\n",
       "PULocationID                      int64\n",
       "DOLocationID                      int64\n",
       "payment_type                      int64\n",
       "fare_amount                     float64\n",
       "extra                           float64\n",
       "mta_tax                         float64\n",
       "tip_amount                      float64\n",
       "tolls_amount                    float64\n",
       "improvement_surcharge           float64\n",
       "total_amount                    float64\n",
       "congestion_surcharge            float64\n",
       "airport_fee                     float64\n",
       "duration                        float64\n",
       "dtype: object"
      ]
     },
     "execution_count": 27,
     "metadata": {},
     "output_type": "execute_result"
    }
   ],
   "source": [
    "df.dtypes"
   ]
  },
  {
   "cell_type": "code",
   "execution_count": 28,
   "id": "3bc6ad96",
   "metadata": {},
   "outputs": [
    {
     "data": {
      "text/html": [
       "<div>\n",
       "<style scoped>\n",
       "    .dataframe tbody tr th:only-of-type {\n",
       "        vertical-align: middle;\n",
       "    }\n",
       "\n",
       "    .dataframe tbody tr th {\n",
       "        vertical-align: top;\n",
       "    }\n",
       "\n",
       "    .dataframe thead th {\n",
       "        text-align: right;\n",
       "    }\n",
       "</style>\n",
       "<table border=\"1\" class=\"dataframe\">\n",
       "  <thead>\n",
       "    <tr style=\"text-align: right;\">\n",
       "      <th></th>\n",
       "      <th>tpep_pickup_datetime</th>\n",
       "      <th>tpep_dropoff_datetime</th>\n",
       "      <th>duration</th>\n",
       "    </tr>\n",
       "  </thead>\n",
       "  <tbody>\n",
       "    <tr>\n",
       "      <th>0</th>\n",
       "      <td>2023-01-01 00:32:10</td>\n",
       "      <td>2023-01-01 00:40:36</td>\n",
       "      <td>8.433</td>\n",
       "    </tr>\n",
       "    <tr>\n",
       "      <th>1</th>\n",
       "      <td>2023-01-01 00:55:08</td>\n",
       "      <td>2023-01-01 01:01:27</td>\n",
       "      <td>6.317</td>\n",
       "    </tr>\n",
       "    <tr>\n",
       "      <th>2</th>\n",
       "      <td>2023-01-01 00:25:04</td>\n",
       "      <td>2023-01-01 00:37:49</td>\n",
       "      <td>12.750</td>\n",
       "    </tr>\n",
       "    <tr>\n",
       "      <th>3</th>\n",
       "      <td>2023-01-01 00:03:48</td>\n",
       "      <td>2023-01-01 00:13:25</td>\n",
       "      <td>9.617</td>\n",
       "    </tr>\n",
       "    <tr>\n",
       "      <th>4</th>\n",
       "      <td>2023-01-01 00:10:29</td>\n",
       "      <td>2023-01-01 00:21:19</td>\n",
       "      <td>10.833</td>\n",
       "    </tr>\n",
       "  </tbody>\n",
       "</table>\n",
       "</div>"
      ],
      "text/plain": [
       "  tpep_pickup_datetime tpep_dropoff_datetime  duration\n",
       "0  2023-01-01 00:32:10   2023-01-01 00:40:36     8.433\n",
       "1  2023-01-01 00:55:08   2023-01-01 01:01:27     6.317\n",
       "2  2023-01-01 00:25:04   2023-01-01 00:37:49    12.750\n",
       "3  2023-01-01 00:03:48   2023-01-01 00:13:25     9.617\n",
       "4  2023-01-01 00:10:29   2023-01-01 00:21:19    10.833"
      ]
     },
     "execution_count": 28,
     "metadata": {},
     "output_type": "execute_result"
    }
   ],
   "source": [
    "df['duration'] = round((df['tpep_dropoff_datetime'] - df['tpep_pickup_datetime']).dt.total_seconds() /60, 3)\n",
    "df[['tpep_pickup_datetime', 'tpep_dropoff_datetime', 'duration']].head()"
   ]
  },
  {
   "cell_type": "code",
   "execution_count": 29,
   "id": "2a0d5d82",
   "metadata": {},
   "outputs": [
    {
     "data": {
      "text/html": [
       "<div>\n",
       "<style scoped>\n",
       "    .dataframe tbody tr th:only-of-type {\n",
       "        vertical-align: middle;\n",
       "    }\n",
       "\n",
       "    .dataframe tbody tr th {\n",
       "        vertical-align: top;\n",
       "    }\n",
       "\n",
       "    .dataframe thead th {\n",
       "        text-align: right;\n",
       "    }\n",
       "</style>\n",
       "<table border=\"1\" class=\"dataframe\">\n",
       "  <thead>\n",
       "    <tr style=\"text-align: right;\">\n",
       "      <th></th>\n",
       "      <th>VendorID</th>\n",
       "      <th>tpep_pickup_datetime</th>\n",
       "      <th>tpep_dropoff_datetime</th>\n",
       "      <th>passenger_count</th>\n",
       "      <th>trip_distance</th>\n",
       "      <th>RatecodeID</th>\n",
       "      <th>store_and_fwd_flag</th>\n",
       "      <th>PULocationID</th>\n",
       "      <th>DOLocationID</th>\n",
       "      <th>payment_type</th>\n",
       "      <th>fare_amount</th>\n",
       "      <th>extra</th>\n",
       "      <th>mta_tax</th>\n",
       "      <th>tip_amount</th>\n",
       "      <th>tolls_amount</th>\n",
       "      <th>improvement_surcharge</th>\n",
       "      <th>total_amount</th>\n",
       "      <th>congestion_surcharge</th>\n",
       "      <th>airport_fee</th>\n",
       "      <th>duration</th>\n",
       "    </tr>\n",
       "  </thead>\n",
       "  <tbody>\n",
       "    <tr>\n",
       "      <th>1839180</th>\n",
       "      <td>1</td>\n",
       "      <td>2023-01-20 13:35:00</td>\n",
       "      <td>2023-01-20 13:05:48</td>\n",
       "      <td>1.0</td>\n",
       "      <td>0.8</td>\n",
       "      <td>99.0</td>\n",
       "      <td>N</td>\n",
       "      <td>227</td>\n",
       "      <td>14</td>\n",
       "      <td>1</td>\n",
       "      <td>16.5</td>\n",
       "      <td>0.0</td>\n",
       "      <td>0.5</td>\n",
       "      <td>0.0</td>\n",
       "      <td>0.0</td>\n",
       "      <td>1.0</td>\n",
       "      <td>18.0</td>\n",
       "      <td>0.0</td>\n",
       "      <td>0.0</td>\n",
       "      <td>-29.200</td>\n",
       "    </tr>\n",
       "    <tr>\n",
       "      <th>2124414</th>\n",
       "      <td>1</td>\n",
       "      <td>2023-01-23 10:43:58</td>\n",
       "      <td>2023-01-23 10:29:26</td>\n",
       "      <td>1.0</td>\n",
       "      <td>2.4</td>\n",
       "      <td>99.0</td>\n",
       "      <td>N</td>\n",
       "      <td>102</td>\n",
       "      <td>82</td>\n",
       "      <td>1</td>\n",
       "      <td>21.5</td>\n",
       "      <td>0.0</td>\n",
       "      <td>0.5</td>\n",
       "      <td>0.0</td>\n",
       "      <td>0.0</td>\n",
       "      <td>1.0</td>\n",
       "      <td>23.0</td>\n",
       "      <td>0.0</td>\n",
       "      <td>0.0</td>\n",
       "      <td>-14.533</td>\n",
       "    </tr>\n",
       "    <tr>\n",
       "      <th>2218504</th>\n",
       "      <td>1</td>\n",
       "      <td>2023-01-24 11:00:00</td>\n",
       "      <td>2023-01-24 10:40:48</td>\n",
       "      <td>1.0</td>\n",
       "      <td>0.4</td>\n",
       "      <td>99.0</td>\n",
       "      <td>N</td>\n",
       "      <td>247</td>\n",
       "      <td>169</td>\n",
       "      <td>1</td>\n",
       "      <td>15.5</td>\n",
       "      <td>0.0</td>\n",
       "      <td>0.5</td>\n",
       "      <td>0.0</td>\n",
       "      <td>0.0</td>\n",
       "      <td>1.0</td>\n",
       "      <td>17.0</td>\n",
       "      <td>0.0</td>\n",
       "      <td>0.0</td>\n",
       "      <td>-19.200</td>\n",
       "    </tr>\n",
       "  </tbody>\n",
       "</table>\n",
       "</div>"
      ],
      "text/plain": [
       "         VendorID tpep_pickup_datetime tpep_dropoff_datetime  passenger_count  \\\n",
       "1839180         1  2023-01-20 13:35:00   2023-01-20 13:05:48              1.0   \n",
       "2124414         1  2023-01-23 10:43:58   2023-01-23 10:29:26              1.0   \n",
       "2218504         1  2023-01-24 11:00:00   2023-01-24 10:40:48              1.0   \n",
       "\n",
       "         trip_distance  RatecodeID store_and_fwd_flag  PULocationID  \\\n",
       "1839180            0.8        99.0                  N           227   \n",
       "2124414            2.4        99.0                  N           102   \n",
       "2218504            0.4        99.0                  N           247   \n",
       "\n",
       "         DOLocationID  payment_type  fare_amount  extra  mta_tax  tip_amount  \\\n",
       "1839180            14             1         16.5    0.0      0.5         0.0   \n",
       "2124414            82             1         21.5    0.0      0.5         0.0   \n",
       "2218504           169             1         15.5    0.0      0.5         0.0   \n",
       "\n",
       "         tolls_amount  improvement_surcharge  total_amount  \\\n",
       "1839180           0.0                    1.0          18.0   \n",
       "2124414           0.0                    1.0          23.0   \n",
       "2218504           0.0                    1.0          17.0   \n",
       "\n",
       "         congestion_surcharge  airport_fee  duration  \n",
       "1839180                   0.0          0.0   -29.200  \n",
       "2124414                   0.0          0.0   -14.533  \n",
       "2218504                   0.0          0.0   -19.200  "
      ]
     },
     "execution_count": 29,
     "metadata": {},
     "output_type": "execute_result"
    }
   ],
   "source": [
    "df[df['tpep_dropoff_datetime'] < df['tpep_pickup_datetime']]"
   ]
  },
  {
   "cell_type": "code",
   "execution_count": 30,
   "id": "ba241f52",
   "metadata": {},
   "outputs": [
    {
     "data": {
      "text/html": [
       "<div>\n",
       "<style scoped>\n",
       "    .dataframe tbody tr th:only-of-type {\n",
       "        vertical-align: middle;\n",
       "    }\n",
       "\n",
       "    .dataframe tbody tr th {\n",
       "        vertical-align: top;\n",
       "    }\n",
       "\n",
       "    .dataframe thead th {\n",
       "        text-align: right;\n",
       "    }\n",
       "</style>\n",
       "<table border=\"1\" class=\"dataframe\">\n",
       "  <thead>\n",
       "    <tr style=\"text-align: right;\">\n",
       "      <th></th>\n",
       "      <th>VendorID</th>\n",
       "      <th>tpep_pickup_datetime</th>\n",
       "      <th>tpep_dropoff_datetime</th>\n",
       "      <th>passenger_count</th>\n",
       "      <th>trip_distance</th>\n",
       "      <th>RatecodeID</th>\n",
       "      <th>store_and_fwd_flag</th>\n",
       "      <th>PULocationID</th>\n",
       "      <th>DOLocationID</th>\n",
       "      <th>payment_type</th>\n",
       "      <th>fare_amount</th>\n",
       "      <th>extra</th>\n",
       "      <th>mta_tax</th>\n",
       "      <th>tip_amount</th>\n",
       "      <th>tolls_amount</th>\n",
       "      <th>improvement_surcharge</th>\n",
       "      <th>total_amount</th>\n",
       "      <th>congestion_surcharge</th>\n",
       "      <th>airport_fee</th>\n",
       "      <th>duration</th>\n",
       "    </tr>\n",
       "  </thead>\n",
       "  <tbody>\n",
       "  </tbody>\n",
       "</table>\n",
       "</div>"
      ],
      "text/plain": [
       "Empty DataFrame\n",
       "Columns: [VendorID, tpep_pickup_datetime, tpep_dropoff_datetime, passenger_count, trip_distance, RatecodeID, store_and_fwd_flag, PULocationID, DOLocationID, payment_type, fare_amount, extra, mta_tax, tip_amount, tolls_amount, improvement_surcharge, total_amount, congestion_surcharge, airport_fee, duration]\n",
       "Index: []"
      ]
     },
     "execution_count": 30,
     "metadata": {},
     "output_type": "execute_result"
    }
   ],
   "source": [
    "df[df['tpep_dropoff_datetime'].isna() | df['tpep_pickup_datetime'].isna()]"
   ]
  },
  {
   "cell_type": "code",
   "execution_count": 34,
   "id": "a7354fd4",
   "metadata": {},
   "outputs": [
    {
     "name": "stdout",
     "output_type": "stream",
     "text": [
      "Filtered size: 3066763\n",
      "Unfiltered size: 3066766\n",
      "\n",
      "Duration (without filter std [min]: 42.59435142789921\n",
      "Duration (with filter std [min]: 42.594356410027174\n",
      "\n"
     ]
    }
   ],
   "source": [
    "# Standard Deviation including the cases where pick up time occured later than dropoff time\n",
    "duration_std = df['duration'].std()\n",
    "# Filtering the edge casese where pickup time > dropoff time\n",
    "df_filtered = df[df['tpep_pickup_datetime'] <= df['tpep_dropoff_datetime']]\n",
    "print(f'Filtered size: {len(df_filtered)}\\nUnfiltered size: {len(df)}')\n",
    "duration_std_filter = df_filtered['duration'].std()\n",
    "print(f'\\nDuration (without filter std [min]: {duration_std}\\nDuration (with filter std [min]: {duration_std_filter}\\n')"
   ]
  },
  {
   "cell_type": "code",
   "execution_count": 6,
   "id": "07f83ba4-5057-4dc4-9076-d0ef782b99da",
   "metadata": {},
   "outputs": [
    {
     "name": "stdout",
     "output_type": "stream",
     "text": [
      "Delta with t2-t1: 0:08:26\n",
      "Delta with t2-t1 in minutes: 8.43\n"
     ]
    }
   ],
   "source": [
    "from datetime import timedelta\n",
    "tmf = '%Y-%m-%d %H:%M:%S'\n",
    "timestamp_1 = datetime.strptime('2023-01-01 00:32:10', tmf)\n",
    "timestamp_2 = datetime.strptime('2023-01-01 00:40:36', tmf)\n",
    "print(f'Delta with t2-t1: {timestamp_2-timestamp_1}')\n",
    "print(f'Delta with t2-t1 in minutes: {round((timestamp_2-timestamp_1).total_seconds()/60,2)}')"
   ]
  },
  {
   "cell_type": "code",
   "execution_count": 39,
   "id": "ff612fc5",
   "metadata": {},
   "outputs": [
    {
     "name": "stderr",
     "output_type": "stream",
     "text": [
      "C:\\Users\\Martin V\\AppData\\Local\\Packages\\PythonSoftwareFoundation.Python.3.10_qbz5n2kfra8p0\\LocalCache\\local-packages\\Python310\\site-packages\\seaborn\\distributions.py:2619: FutureWarning: `distplot` is a deprecated function and will be removed in a future version. Please adapt your code to use either `displot` (a figure-level function with similar flexibility) or `histplot` (an axes-level function for histograms).\n",
      "  warnings.warn(msg, FutureWarning)\n"
     ]
    },
    {
     "data": {
      "text/plain": [
       "<AxesSubplot:xlabel='duration', ylabel='Density'>"
      ]
     },
     "execution_count": 39,
     "metadata": {},
     "output_type": "execute_result"
    },
    {
     "data": {
      "image/png": "[encoded data removed]",
      "text/plain": [
       "<Figure size 432x288 with 1 Axes>"
      ]
     },
     "metadata": {
      "needs_background": "light"
     },
     "output_type": "display_data"
    }
   ],
   "source": [
    "sns.distplot(df['duration'])"
   ]
  },
  {
   "cell_type": "code",
   "execution_count": 40,
   "id": "9df06c2b",
   "metadata": {},
   "outputs": [
    {
     "name": "stdout",
     "output_type": "stream",
     "text": [
      " Percentage of records left: 0.9811286547457485\n"
     ]
    }
   ],
   "source": [
    "# 3. Dropping Outliers.\n",
    "df_trimmed = df[(df['duration'] > 1) & (df['duration']<= 60)]\n",
    "print(f' Percentage of records left: {len(df_trimmed)/len(df)}')\n"
   ]
  },
  {
   "cell_type": "code",
   "execution_count": 45,
   "id": "8dcdf9d2",
   "metadata": {},
   "outputs": [
    {
     "name": "stderr",
     "output_type": "stream",
     "text": [
      "C:\\Users\\Martin V\\AppData\\Local\\Temp\\ipykernel_2964\\3740858867.py:3: SettingWithCopyWarning: \n",
      "A value is trying to be set on a copy of a slice from a DataFrame.\n",
      "Try using .loc[row_indexer,col_indexer] = value instead\n",
      "\n",
      "See the caveats in the documentation: https://pandas.pydata.org/pandas-docs/stable/user_guide/indexing.html#returning-a-view-versus-a-copy\n",
      "  df_trimmed[categorical] = df_trimmed[categorical].astype(str)\n"
     ]
    }
   ],
   "source": [
    "# 4. One hot enconding for pickup location.\n",
    "categorical = ['PULocationID', 'DOLocationID']\n",
    "df_trimmed[categorical] = df_trimmed[categorical].astype(str)\n",
    "train_dicts = df_trimmed[categorical].to_dict(orient='records')\n",
    "dv = DictVectorizer()\n",
    "X_train = dv.fit_transform(train_dicts)"
   ]
  },
  {
   "cell_type": "code",
   "execution_count": 47,
   "id": "de4c0f35",
   "metadata": {},
   "outputs": [
    {
     "data": {
      "text/plain": [
       "(3008892, 515)"
      ]
     },
     "execution_count": 47,
     "metadata": {},
     "output_type": "execute_result"
    }
   ],
   "source": [
    "X_train.shape"
   ]
  }
 ],
 "metadata": {
  "kernelspec": {
   "display_name": "Python 3",
   "language": "python",
   "name": "python3"
  },
  "language_info": {
   "codemirror_mode": {
    "name": "ipython",
    "version": 3
   },
   "file_extension": ".py",
   "mimetype": "text/x-python",
   "name": "python",
   "nbconvert_exporter": "python",
   "pygments_lexer": "ipython3",
   "version": "3.10.11"
  }
 },
 "nbformat": 4,
 "nbformat_minor": 5
}
